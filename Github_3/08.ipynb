{
 "cells": [
  {
   "cell_type": "code",
   "execution_count": 14,
   "metadata": {},
   "outputs": [],
   "source": [
    "import pandas as pd\n",
    "import matplotlib.pyplot as plt\n",
    "import numpy as np\n",
    "\n",
    "#Loading the dataset\n",
    "path = 'form.csv'\n",
    "form_df = pd.read_csv(path)"
   ]
  },
  {
   "cell_type": "code",
   "execution_count": 15,
   "metadata": {},
   "outputs": [],
   "source": [
    "import pandas as pd\n",
    "from sklearn.datasets import load_iris\n",
    "\n",
    "iris = load_iris()\n",
    "iris_df = pd.DataFrame(data=iris['data'], columns=iris['feature_names'])"
   ]
  },
  {
   "cell_type": "code",
   "execution_count": 16,
   "metadata": {},
   "outputs": [
    {
     "name": "stdout",
     "output_type": "stream",
     "text": [
      "   birth_month  state    pet\n",
      "0        False   True  False\n",
      "1        False  False  False\n",
      "2        False  False  False\n",
      "3        False  False  False\n",
      "4        False  False  False\n",
      "5        False  False  False\n",
      "6        False  False  False\n",
      "7        False  False  False\n",
      "8        False  False  False\n",
      "9        False  False  False\n",
      "  birth_month       state   pet\n",
      "1         JAN          CA  Cats\n",
      "2        Sept      Hawaii   Dog\n",
      "3     january          AK   Dog\n",
      "4        July          RI  Cats\n",
      "5   September  California  Cats\n",
      "6       April          CA   Dog\n",
      "7     January  California  Cats\n",
      "8    November          FL   Dog\n",
      "9    December     Florida  Cats\n",
      "  birth_month   pet\n",
      "0     January  Cats\n",
      "1         JAN  Cats\n",
      "2        Sept   Dog\n",
      "3     january   Dog\n",
      "4        July  Cats\n",
      "5   September  Cats\n",
      "6       April   Dog\n",
      "7     January  Cats\n",
      "8    November   Dog\n",
      "9    December  Cats\n",
      "0    False\n",
      "1    False\n",
      "2    False\n",
      "3    False\n",
      "4    False\n",
      "5    False\n",
      "6    False\n",
      "7    False\n",
      "8    False\n",
      "9    False\n",
      "dtype: bool\n"
     ]
    }
   ],
   "source": [
    "print(form_df.isnull())\n",
    "print(form_df.dropna())\n",
    "print(form_df.dropna(axis='columns'))\n",
    "print(form_df.duplicated())"
   ]
  }
 ],
 "metadata": {
  "kernelspec": {
   "display_name": "Python 3",
   "language": "python",
   "name": "python3"
  },
  "language_info": {
   "codemirror_mode": {
    "name": "ipython",
    "version": 3
   },
   "file_extension": ".py",
   "mimetype": "text/x-python",
   "name": "python",
   "nbconvert_exporter": "python",
   "pygments_lexer": "ipython3",
   "version": "3.11.6"
  }
 },
 "nbformat": 4,
 "nbformat_minor": 2
}
